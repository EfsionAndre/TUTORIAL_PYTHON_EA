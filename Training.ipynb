{
  "cells": [
    {
      "metadata": {},
      "cell_type": "markdown",
      "source": "<font style=\"text-align:justify\" color=red size=\"15|\">__Python Training__</font> <br><br><br>\n\n&nbsp;&nbsp;&nbsp;&nbsp;&nbsp;&nbsp;&nbsp;&nbsp;&nbsp;&nbsp;&nbsp;&nbsp;&nbsp;&nbsp;&nbsp;&nbsp;&nbsp;&nbsp;&nbsp;&nbsp;&nbsp;&nbsp;&nbsp;&nbsp;&nbsp;&nbsp;&nbsp;&nbsp;&nbsp;&nbsp;&nbsp;&nbsp;&nbsp;&nbsp;&nbsp;\n<font size=\"5|\">Held by</font> <br><br><br>\n\n&nbsp;&nbsp;&nbsp;&nbsp;&nbsp;&nbsp;&nbsp;&nbsp;&nbsp;&nbsp;&nbsp;&nbsp;&nbsp;&nbsp;&nbsp;&nbsp;&nbsp;&nbsp;&nbsp;&nbsp;&nbsp;&nbsp;&nbsp;&nbsp;&nbsp;&nbsp;&nbsp;\n<font color=green size=\"15|\">__DAGO__</font> <br><br><br>\n\n&nbsp;&nbsp;&nbsp;&nbsp;&nbsp;&nbsp;&nbsp;&nbsp;&nbsp;&nbsp;&nbsp;&nbsp;&nbsp;&nbsp;&nbsp;&nbsp;&nbsp;&nbsp;&nbsp;&nbsp;&nbsp;&nbsp;&nbsp;&nbsp;&nbsp;&nbsp;&nbsp;\n<font size=\"5|\">Supported by</font> <br><br><br>\n\n\n&nbsp;&nbsp;&nbsp;&nbsp;&nbsp;&nbsp;&nbsp;&nbsp;&nbsp;&nbsp;\n<font color=blue size=\"15|\">__Gada Energy__</font>\n"
    },
    {
      "metadata": {},
      "cell_type": "markdown",
      "source": "![title](https://previews.123rf.com/images/zetwe/zetwe1210/zetwe121000131/15669079-illustration-of-a-snake-tamer.jpg)"
    },
    {
      "metadata": {
        "collapsed": true
      },
      "cell_type": "markdown",
      "source": "# Start With \"Hello World!\n\nGunakan syntax __print()__ untuk menuliskan ke console\n"
    },
    {
      "metadata": {
        "trusted": true
      },
      "cell_type": "code",
      "source": "print(\"Hello World!\")",
      "execution_count": 4,
      "outputs": [
        {
          "output_type": "stream",
          "text": "Hello World!\n",
          "name": "stdout"
        }
      ]
    },
    {
      "metadata": {},
      "cell_type": "markdown",
      "source": "## Tipe Data di Python\n* __integer__ = bilangan bulat\n* __float__   = bilangan berkoma\n* __string__  = kata \n* __boolean__ = logika (benar/salah)\n\nSetiap nilai dari tipe data dapat dialokasikan atau disimpan pada memori yang disebut sebagai variable <br>\nGunakan syntax __type()__ untuk mengecek tipe data\n\n### Exercise \nAssign tiap variable dengan tipe data yang berbeda, print nilai variable tersebut beserta tipenya"
    },
    {
      "metadata": {
        "trusted": true
      },
      "cell_type": "code",
      "source": "bulat=5\nprint(bulat)\nprint(type(bulat))\n\nkata=\"jumlah rumah\"\nprint(kata)\nprint(type(kata))",
      "execution_count": 5,
      "outputs": [
        {
          "output_type": "stream",
          "text": "5\n<class 'int'>\njumlah rumah\n<class 'str'>\n",
          "name": "stdout"
        }
      ]
    },
    {
      "metadata": {},
      "cell_type": "markdown",
      "source": "## Basic Arithmetic\n* __+__ = jumlah\n* __-__ = kurang\n* __*__ = kali\n* __/__ = bagi\n* __%__ = modulo (sisa bagi)\n* __**__ = pangkat\n\n### Exercise \nGunakan arithmatic tersebut pada tipe data yang berbeda"
    },
    {
      "metadata": {
        "trusted": true
      },
      "cell_type": "code",
      "source": "print(3+2)\nprint(9-13)\nprint(2*4)\nprint(1/5)\nprint(9%2)\nprint(2**5)\n\nprint(\"Kota\" + \"Bandung\")\nprint(True + False)",
      "execution_count": 6,
      "outputs": [
        {
          "output_type": "stream",
          "text": "5\n-4\n8\n0.2\n1\n32\nKotaBandung\n1\n",
          "name": "stdout"
        }
      ]
    },
    {
      "metadata": {},
      "cell_type": "markdown",
      "source": "__print()__ dapat digunakan untuk menulis beberapa variabel sekaligus <br>\n__print()__ tidak dapat digunakan pada tipe data yang berbeda <br>\n\nMasalah tersebut dapat diselesaikan dengan mengubah tipe data menggunakan syntax Casting <br>\n* __int()__ = mengubah menjadi integer  \n* __float()__ = mengubah menjadi float  \n* __str()__ = mengubah menjadi string   \n* __bool()__ = mengubah menjadi bool \n\n### Exercise \nGunakan pada tipe data yang berbeda"
    },
    {
      "metadata": {
        "trusted": true
      },
      "cell_type": "code",
      "source": "print(kata + \" sebanyak = \" + str(bulat))",
      "execution_count": 7,
      "outputs": [
        {
          "output_type": "stream",
          "text": "jumlah rumah sebanyak = 5\n",
          "name": "stdout"
        }
      ]
    },
    {
      "metadata": {
        "trusted": true
      },
      "cell_type": "markdown",
      "source": "## LOOP\n\nBayangkan anda diminta untuk menulis bilangan dari 1 hingga 100 pada console <br>\nMenuliskan satu per satu line code membutuhkan waktu yang lama dan juga monoton <br>\nFungsi dari komputer salah satunya adalah untuk mengerjakan hal-hal yang berulang dan monoton <br>\n\nPada python konsep perulangan terekam pada syntax __For__ dan __While__ <br>\n\n__For__ digunakan pada pekerjaan berulang __untuk__ jumlah step yang sudah ditentukan dari awal <br>\n__While__ perkerjaan berulang akan terus dikerjakan __selama__ kondisi masih benar <br>\n\n### IDENTATION ATAU TAB PENTING DALAM PYTHON !!! \n\n### Exercise \nGunakan loop untuk menulis angka 1 hingga 20\n\n\n"
    },
    {
      "metadata": {
        "trusted": true
      },
      "cell_type": "code",
      "source": "for i in range(10):\n    print(i)",
      "execution_count": 8,
      "outputs": [
        {
          "output_type": "stream",
          "text": "0\n1\n2\n3\n4\n5\n6\n7\n8\n9\n",
          "name": "stdout"
        }
      ]
    },
    {
      "metadata": {
        "trusted": true
      },
      "cell_type": "code",
      "source": "i=0\nwhile(i<10):\n    print(i)\n    i+=1",
      "execution_count": 9,
      "outputs": [
        {
          "output_type": "stream",
          "text": "0\n1\n2\n3\n4\n5\n6\n7\n8\n9\n",
          "name": "stdout"
        }
      ]
    },
    {
      "metadata": {
        "trusted": true
      },
      "cell_type": "markdown",
      "source": "## Logical Conditional\n\n__IF__ digunakan untuk mengecek kebenaran suatu variabel, __jika__ kondisi benar maka code dijalankan, vice versa <br>\n\nAdapun operator yang dipakai sebagai berikut: <br>\n* __==__ : sama dengan\n* __!=__ : tidak sama dengan\n* __<__ : lebih kecil\n* __>__ : lebih besar\n\n### Exercise \nCek suatu nilai genap atau ganjil"
    },
    {
      "metadata": {
        "trusted": true
      },
      "cell_type": "code",
      "source": "angka=7\nif angka%2 == 0 :\n    print(\"genap\")\nelse:\n    print(\"ganjil\")",
      "execution_count": 10,
      "outputs": [
        {
          "output_type": "stream",
          "text": "ganjil\n",
          "name": "stdout"
        }
      ]
    },
    {
      "metadata": {
        "trusted": true
      },
      "cell_type": "markdown",
      "source": "## Combinational\n\nSyntax __for, while, if__ dapat digunakan sekaligus untuk menghasilkan pekerjaan yang lebih komplek\n\n### Exercise\nPrint angka 1 hingga 20, tentukan bilangan prima atau bukan"
    },
    {
      "metadata": {
        "trusted": true
      },
      "cell_type": "code",
      "source": "for i in range(21):\n    if i%2==0:\n        print(str(i) + \"= bilangan genap\")\n    else:\n        print(str(i) + \"= bilangan ganjil\")",
      "execution_count": 11,
      "outputs": [
        {
          "output_type": "stream",
          "text": "0= bilangan genap\n1= bilangan ganjil\n2= bilangan genap\n3= bilangan ganjil\n4= bilangan genap\n5= bilangan ganjil\n6= bilangan genap\n7= bilangan ganjil\n8= bilangan genap\n9= bilangan ganjil\n10= bilangan genap\n11= bilangan ganjil\n12= bilangan genap\n13= bilangan ganjil\n14= bilangan genap\n15= bilangan ganjil\n16= bilangan genap\n17= bilangan ganjil\n18= bilangan genap\n19= bilangan ganjil\n20= bilangan genap\n",
          "name": "stdout"
        }
      ]
    },
    {
      "metadata": {
        "trusted": true
      },
      "cell_type": "markdown",
      "source": "## Definition (Procedure)\nPenulisan code secara monolithic (ditulis urut dan panjang dalam sebuah single code) memiliki beberapa kelemahan, antara lain:\n\n1. Difficult to write correctly --> seluruh detail penulisan statement harus diperhatikan\n2. Difficult to debug --> sulit untuk menemukan sumber bug pada code yang panjang\n3. Difficult to extend --> jika tidak memahami keseluruhan code, sulit untuk melakukan modifikasi pada salah satu bagian code\n\nDefinition (Procedure) digunakan untuk memecah code yang panjang menjadi bagian-bagian code yang lebih kecil\n\nBagian-bagian definition antara lain\n1. Name --> sebagai identifier\n2. Parameter --> variabel yang akan digunakan dalam definition, tetapi nilai nya diinputkan dari user\n3. Body --> code untuk definition\n\n### Exercise\n1. Buat procedure untuk menghitung luas dan keliling segitiga\n2. Buat procedure untuk mencetak bilangan prima yang kurang dari 100\n"
    },
    {
      "metadata": {
        "trusted": true
      },
      "cell_type": "code",
      "source": "from math import sqrt\n\ndef main():\n    x = 122\n    y = 140\n    z = 98\n\n    keliling_segitiga(x,y,z)\n    luas_segitiga(x,y,z)\n\ndef keliling_segitiga(a,b,c):\n    keliling = a+b+c\n    print(keliling)\n\ndef luas_segitiga(a,b,c):\n    s = (a+b+c)/2\n    luas = sqrt(s*(s-a)*(s-b)*(s-c))\n    print(luas)\n\nmain()",
      "execution_count": 12,
      "outputs": [
        {
          "output_type": "stream",
          "text": "360\n5851.768963313572\n",
          "name": "stdout"
        }
      ]
    },
    {
      "metadata": {
        "trusted": true
      },
      "cell_type": "code",
      "source": "def main():\n    for i in range(1,100):\n        isPrima(i)\n    \ndef isPrima(x):\n    faktor=0\n    for i in range(1,x+1):\n        if x%i==0:\n            faktor+=1\n    if faktor==2:\n        print(x)\n\nmain()",
      "execution_count": 13,
      "outputs": [
        {
          "output_type": "stream",
          "text": "2\n3\n5\n7\n11\n13\n17\n19\n23\n29\n31\n37\n41\n43\n47\n53\n59\n61\n67\n71\n73\n79\n83\n89\n97\n",
          "name": "stdout"
        }
      ]
    },
    {
      "metadata": {},
      "cell_type": "markdown",
      "source": "## Function\nFunction adalah definition yang mampu mengeluarkan sebuah nilai (Return)\n\n### Exercise\n1. Buat fungsi untuk menghitung luas dan keliling segitiga\n2. Buat fungsi untuk mencetak bilangan prima yang kurang dari 100\n"
    },
    {
      "metadata": {
        "trusted": true
      },
      "cell_type": "code",
      "source": "from math import sqrt\n\ndef main():\n    x = 122\n    y = 140\n    z = 98\n\n    a = keliling_segitiga(x,y,z)\n    print(a)\n    b = luas_segitiga(x,y,z)\n    print(b)\n\ndef keliling_segitiga(a,b,c):\n    keliling = a+b+c\n    return keliling\n\ndef luas_segitiga(a,b,c):\n    s = keliling_segitiga(a,b,c)/2\n    return sqrt(s*(s-a)*(s-b)*(s-c))\n\nmain()",
      "execution_count": 14,
      "outputs": [
        {
          "output_type": "stream",
          "text": "360\n5851.768963313572\n",
          "name": "stdout"
        }
      ]
    },
    {
      "metadata": {
        "trusted": true
      },
      "cell_type": "markdown",
      "source": "## Collection Data Type\n## List\n\n### Inisialisasi dan Indeks List\nList adalah kumpulan elemen, disimpan dalam sebuah square bracket [], dipisahkan oleh koma\nNested list adalah list di dalam list\nSetiap list memiliki indeks list. Untuk python index list dimulai dari 0"
    },
    {
      "metadata": {
        "trusted": true
      },
      "cell_type": "code",
      "source": "list_me = []\nprint(list_me)\n\nlist_me = [1,2,3]\nprint(list_me)\n\nlist_me = [1,2.5,'rubik cube']\nprint(list_me)\n\nlist_me = ['a',[1,2,3],[1.2,2.3,3.4]]\nprint(list_me[0])\nprint(list_me[1])\nprint(list_me[2])\n",
      "execution_count": 15,
      "outputs": [
        {
          "output_type": "stream",
          "text": "[]\n[1, 2, 3]\n[1, 2.5, 'rubik cube']\na\n[1, 2, 3]\n[1.2, 2.3, 3.4]\n",
          "name": "stdout"
        }
      ]
    },
    {
      "metadata": {},
      "cell_type": "markdown",
      "source": "### List Method\n\n* __append()__ - Add an element to the end of the list <br>\n* __extend()__ - Add all elements of a list to the another list <br>\n* __insert()__ - Insert an item at the defined index <br>\n* __remove()__ - Removes an item from the list <br>\n* __pop()__ - Removes and returns an element at the given index <br>\n* __clear()__ - Removes all items from the list <br>\n* __index()__ - Returns the index of the first matched item <br>\n* __count()__ - Returns the count of number of items passed as an argument <br>\n* __sort()__ - Sort items in a list in ascending order <br>\n* __reverse()__ - Reverse the order of items in the list <br>\n* __copy()__ - Returns a shallow copy of the list <br>"
    },
    {
      "metadata": {
        "trusted": true
      },
      "cell_type": "code",
      "source": "list_me = [122,140,98]\nlist_me.append(99)\nprint(list_me)\n\nlist_me = [122,140,98]\nlist_me.extend([97,98,99])\nprint(list_me)\n\nlist_me = [122,140,98]\nlist_me.insert(1,123)\nprint(list_me)\n\nlist_me = [122,140,98]\nlist_me.remove(140)\nprint(list_me)\n\nlist_me = [122,140,98]\nlist_me.pop(0)\nprint(list_me)\n\nlist_me = [122,140,98]\nlist_me.clear()\nprint(list_me)\n\nlist_me = [122,140,98]\nlist_me.sort()\nprint(list_me)\n\nlist_me = [122,140,98]\nlist_me.reverse()\nprint(list_me)\n",
      "execution_count": 16,
      "outputs": [
        {
          "output_type": "stream",
          "text": "[122, 140, 98, 99]\n[122, 140, 98, 97, 98, 99]\n[122, 123, 140, 98]\n[122, 98]\n[140, 98]\n[]\n[98, 122, 140]\n[98, 140, 122]\n",
          "name": "stdout"
        }
      ]
    },
    {
      "metadata": {
        "trusted": true
      },
      "cell_type": "markdown",
      "source": "## Module"
    },
    {
      "metadata": {
        "trusted": true
      },
      "cell_type": "markdown",
      "source": "## File External\nFile external adalah file selain source code (file extensi *.py*) yang dapat digunakan sebagai input data file dan/atau output data file\nEkstensi file yang biasa digunakan : .txt, .csv\nTipe file external\n1. 'r' --> reading, untuk import data\n2. 'w' --> writing, untuk eksport data\n3. 'r+' --> reading and writing"
    },
    {
      "metadata": {
        "trusted": true
      },
      "cell_type": "code",
      "source": "g = open('output_data.txt','w')\nfor i in range(100):\n    g.write('Hello World')\ng.close\n\ng=open('input_data.txt','r')\nprint(g.read())\ng.close",
      "execution_count": 17,
      "outputs": [
        {
          "output_type": "error",
          "ename": "FileNotFoundError",
          "evalue": "[Errno 2] No such file or directory: 'input_data.txt'",
          "traceback": [
            "\u001b[0;31m---------------------------------------------------------------------------\u001b[0m",
            "\u001b[0;31mFileNotFoundError\u001b[0m                         Traceback (most recent call last)",
            "\u001b[0;32m<ipython-input-17-76ce6b2eb0bf>\u001b[0m in \u001b[0;36m<module>\u001b[0;34m\u001b[0m\n\u001b[1;32m      4\u001b[0m \u001b[0mg\u001b[0m\u001b[0;34m.\u001b[0m\u001b[0mclose\u001b[0m\u001b[0;34m\u001b[0m\u001b[0m\n\u001b[1;32m      5\u001b[0m \u001b[0;34m\u001b[0m\u001b[0m\n\u001b[0;32m----> 6\u001b[0;31m \u001b[0mg\u001b[0m\u001b[0;34m=\u001b[0m\u001b[0mopen\u001b[0m\u001b[0;34m(\u001b[0m\u001b[0;34m'input_data.txt'\u001b[0m\u001b[0;34m,\u001b[0m\u001b[0;34m'r'\u001b[0m\u001b[0;34m)\u001b[0m\u001b[0;34m\u001b[0m\u001b[0m\n\u001b[0m\u001b[1;32m      7\u001b[0m \u001b[0mprint\u001b[0m\u001b[0;34m(\u001b[0m\u001b[0mg\u001b[0m\u001b[0;34m.\u001b[0m\u001b[0mread\u001b[0m\u001b[0;34m(\u001b[0m\u001b[0;34m)\u001b[0m\u001b[0;34m)\u001b[0m\u001b[0;34m\u001b[0m\u001b[0m\n\u001b[1;32m      8\u001b[0m \u001b[0mg\u001b[0m\u001b[0;34m.\u001b[0m\u001b[0mclose\u001b[0m\u001b[0;34m\u001b[0m\u001b[0m\n",
            "\u001b[0;31mFileNotFoundError\u001b[0m: [Errno 2] No such file or directory: 'input_data.txt'"
          ]
        }
      ]
    },
    {
      "metadata": {},
      "cell_type": "markdown",
      "source": "### Reading File for Line"
    },
    {
      "metadata": {
        "trusted": true
      },
      "cell_type": "code",
      "source": "with open('input_data.txt','r') as f:\n    for line in f:\n        col = line.split(',')\n        col[-1] = col[-1].strip()\n        col = [y for y in col if y]\n        print(col[0])",
      "execution_count": null,
      "outputs": []
    },
    {
      "metadata": {
        "trusted": true
      },
      "cell_type": "markdown",
      "source": "## Debugging\nSepanjang berjalannya waktu dan semakin banyaknya line code yang sudah dibuat <br>\nTerkadang sulit untuk men-trace code yang bermasalah ketika muncul bug <br>\n\nOleh karena itu debugging dilakukan untuk me-run code line bye line ataupun hingga breakpoint tertentu"
    },
    {
      "metadata": {
        "trusted": true
      },
      "cell_type": "code",
      "source": "",
      "execution_count": null,
      "outputs": []
    },
    {
      "metadata": {
        "trusted": true
      },
      "cell_type": "markdown",
      "source": "## Exception Handler\nError/exception dapat terjadi kapan saja <br>\nDapat terjadi akibat kesalahan dari code ataupun user <br>\n\nSering kali error yang muncul tidak dimengerti dan membingungkan user <br>\nOleh karena itu, sebagai programmer yang baik, bacaan error sebaiknya ditentukan oleh programmer <br>\n\nSyntax try and except digunakan\n\n"
    },
    {
      "metadata": {
        "trusted": true
      },
      "cell_type": "code",
      "source": "try:\n    pembagi= int(input(\"input pembagi = \"))\n    print(1/pembagi)\nexcept:\n    print(\"jangan bagi dengan nol\")\n    \n    ",
      "execution_count": null,
      "outputs": []
    },
    {
      "metadata": {
        "trusted": true
      },
      "cell_type": "markdown",
      "source": "## Libary\n\nPython merupakan bahasa pemograman yang cepat berkembang karna library nya yang sangat banyak dan open source <br>\n\nAda 2 library yang biasa dipakai untuk introduction yaitu numpy dan matplotlib\n\n### Exercise\nCoba gunakan numpy and matplotlib"
    },
    {
      "metadata": {
        "trusted": true
      },
      "cell_type": "code",
      "source": "import numpy as np\n\nlist_x=[1,2,3,4,5,6,7,8,9,10]\nlist_y=[2,5,6,7,9,13,23,35,63,71]\n\nprint(list_x+list_y)\n",
      "execution_count": 2,
      "outputs": [
        {
          "output_type": "stream",
          "text": "[1, 2, 3, 4, 5, 6, 7, 8, 9, 10, 2, 5, 6, 7, 9, 13, 23, 35, 63, 71]\n",
          "name": "stdout"
        }
      ]
    },
    {
      "metadata": {
        "trusted": true
      },
      "cell_type": "code",
      "source": "import matplotlib.pyplot as plt\n\nx=[1,2,3,4,5]\ny=[2,4,6,8,10]\nplt.plot(x,y)\n\nplt.tittle= \"Line Plot\"\n\nplt.show()\n\n",
      "execution_count": null,
      "outputs": []
    },
    {
      "metadata": {
        "trusted": true
      },
      "cell_type": "markdown",
      "source": "# BONUS\n\n## Proxy\nset http_proxy=http://proxy.myproxy.com\nset https_proxy=https://proxy.myproxy.com\npython get-pip.py\n\n## Lambda\n\nhasil = lambda x, y, z : x*y-z\nprint(hasil(2,6,8))\n\n## Dictionary\n\ndict =\t{\n  \"name\": \"Person\",\n  \"age\": 18,\n  \"gender\": \"Male\n}\nprint(dict[\"age\"])"
    },
    {
      "metadata": {
        "trusted": true
      },
      "cell_type": "code",
      "source": "\nhasil = lambda x, y, z : x*y-z\nprint(hasil(2,6,8))",
      "execution_count": 4,
      "outputs": [
        {
          "output_type": "stream",
          "text": "4\n",
          "name": "stdout"
        }
      ]
    },
    {
      "metadata": {
        "trusted": true
      },
      "cell_type": "code",
      "source": "dict =\t{\n  \"name\": \"Person\",\n  \"age\": 18,\n  \"gender\": \"Male\"\n}\nprint(dict[\"age\"])",
      "execution_count": 6,
      "outputs": [
        {
          "output_type": "stream",
          "text": "18\n",
          "name": "stdout"
        }
      ]
    },
    {
      "metadata": {
        "trusted": true
      },
      "cell_type": "code",
      "source": "",
      "execution_count": null,
      "outputs": []
    }
  ],
  "metadata": {
    "kernelspec": {
      "name": "python36",
      "display_name": "Python 3.6",
      "language": "python"
    },
    "language_info": {
      "mimetype": "text/x-python",
      "nbconvert_exporter": "python",
      "name": "python",
      "pygments_lexer": "ipython3",
      "version": "3.6.6",
      "file_extension": ".py",
      "codemirror_mode": {
        "version": 3,
        "name": "ipython"
      }
    }
  },
  "nbformat": 4,
  "nbformat_minor": 2
}